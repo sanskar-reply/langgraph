{
 "cells": [
  {
   "cell_type": "code",
   "execution_count": 2,
   "metadata": {},
   "outputs": [],
   "source": [
    "import getpass\n",
    "import os\n",
    "\n",
    "\n",
    "def _set_if_undefined(var: str):\n",
    "    if not os.environ.get(var):\n",
    "        os.environ[var] = getpass.getpass(f\"Please provide your {var}\")\n",
    "\n",
    "\n",
    "_set_if_undefined(\"OPENAI_API_KEY\")\n",
    "_set_if_undefined(\"LANGCHAIN_API_KEY\")\n",
    "_set_if_undefined(\"TAVILY_API_KEY\")\n",
    "\n",
    "# Optional, add tracing in LangSmith\n",
    "os.environ[\"LANGCHAIN_TRACING_V2\"] = \"true\"\n",
    "os.environ[\"LANGCHAIN_PROJECT\"] = \"Multi-agent Collaboration\""
   ]
  },
  {
   "cell_type": "code",
   "execution_count": 3,
   "metadata": {},
   "outputs": [],
   "source": [
    "from typing import Annotated\n",
    "\n",
    "from langchain_community.tools.tavily_search import TavilySearchResults\n",
    "from langchain_experimental.tools import PythonREPLTool\n",
    "\n",
    "tavily_tool = TavilySearchResults(max_results=5)\n",
    "\n",
    "# This executes code locally, which can be unsafe\n",
    "python_repl_tool = PythonREPLTool()"
   ]
  },
  {
   "cell_type": "code",
   "execution_count": 4,
   "metadata": {},
   "outputs": [],
   "source": [
    "from langchain.agents import AgentExecutor, create_openai_tools_agent\n",
    "from langchain_core.messages import BaseMessage, HumanMessage\n",
    "from langchain_openai import ChatOpenAI\n",
    "\n",
    "\n",
    "def create_agent(llm: ChatOpenAI, tools: list, system_prompt: str):\n",
    "    # Each worker node will be given a name and some tools.\n",
    "    prompt = ChatPromptTemplate.from_messages(\n",
    "        [\n",
    "            (\n",
    "                \"system\",\n",
    "                system_prompt,\n",
    "            ),\n",
    "            MessagesPlaceholder(variable_name=\"messages\"),\n",
    "            MessagesPlaceholder(variable_name=\"agent_scratchpad\"),\n",
    "        ]\n",
    "    )\n",
    "    agent = create_openai_tools_agent(llm, tools, prompt)\n",
    "    executor = AgentExecutor(agent=agent, tools=tools)\n",
    "    return executor"
   ]
  },
  {
   "cell_type": "code",
   "execution_count": 5,
   "metadata": {},
   "outputs": [],
   "source": [
    "def agent_node(state, agent, name):\n",
    "    result = agent.invoke(state)\n",
    "    return {\"messages\": [HumanMessage(content=result[\"output\"], name=name)]}"
   ]
  },
  {
   "cell_type": "code",
   "execution_count": 6,
   "metadata": {},
   "outputs": [],
   "source": [
    "from langchain_core.output_parsers.openai_functions import JsonOutputFunctionsParser\n",
    "from langchain_core.prompts import ChatPromptTemplate, MessagesPlaceholder\n",
    "\n",
    "members = [\"Researcher\", \"Coder\"]\n",
    "system_prompt = (\n",
    "    \"You are a supervisor tasked with managing a conversation between the\"\n",
    "    \" following workers:  {members}. Given the following user request,\"\n",
    "    \" respond with the worker to act next. Each worker will perform a\"\n",
    "    \" task and respond with their results and status. When finished,\"\n",
    "    \" respond with FINISH.\"\n",
    ")\n",
    "# Our team supervisor is an LLM node. It just picks the next agent to process\n",
    "# and decides when the work is completed\n",
    "options = [\"FINISH\"] + members\n",
    "# Using openai function calling can make output parsing easier for us\n",
    "function_def = {\n",
    "    \"name\": \"route\",\n",
    "    \"description\": \"Select the next role.\",\n",
    "    \"parameters\": {\n",
    "        \"title\": \"routeSchema\",\n",
    "        \"type\": \"object\",\n",
    "        \"properties\": {\n",
    "            \"next\": {\n",
    "                \"title\": \"Next\",\n",
    "                \"anyOf\": [\n",
    "                    {\"enum\": options},\n",
    "                ],\n",
    "            }\n",
    "        },\n",
    "        \"required\": [\"next\"],\n",
    "    },\n",
    "}\n",
    "prompt = ChatPromptTemplate.from_messages(\n",
    "    [\n",
    "        (\"system\", system_prompt),\n",
    "        MessagesPlaceholder(variable_name=\"messages\"),\n",
    "        (\n",
    "            \"system\",\n",
    "            \"Given the conversation above, who should act next?\"\n",
    "            \" Or should we FINISH? Select one of: {options}\",\n",
    "        ),\n",
    "    ]\n",
    ").partial(options=str(options), members=\", \".join(members))\n",
    "\n",
    "llm = ChatOpenAI(model=\"gpt-4-1106-preview\")\n",
    "\n",
    "supervisor_chain = (\n",
    "    prompt\n",
    "    | llm.bind_functions(functions=[function_def], function_call=\"route\")\n",
    "    | JsonOutputFunctionsParser()\n",
    ")"
   ]
  },
  {
   "cell_type": "code",
   "execution_count": 7,
   "metadata": {},
   "outputs": [],
   "source": [
    "import functools\n",
    "import operator\n",
    "from typing import Sequence, TypedDict\n",
    "\n",
    "from langchain_core.prompts import ChatPromptTemplate, MessagesPlaceholder\n",
    "\n",
    "from langgraph.graph import END, StateGraph\n",
    "\n",
    "\n",
    "# The agent state is the input to each node in the graph\n",
    "class AgentState(TypedDict):\n",
    "    # The annotation tells the graph that new messages will always\n",
    "    # be added to the current states\n",
    "    messages: Annotated[Sequence[BaseMessage], operator.add]\n",
    "    # The 'next' field indicates where to route to next\n",
    "    next: str\n",
    "\n",
    "\n",
    "research_agent = create_agent(llm, [tavily_tool], \"You are a web researcher.\")\n",
    "research_node = functools.partial(agent_node, agent=research_agent, name=\"Researcher\")\n",
    "\n",
    "# NOTE: THIS PERFORMS ARBITRARY CODE EXECUTION. PROCEED WITH CAUTION\n",
    "code_agent = create_agent(\n",
    "    llm,\n",
    "    [python_repl_tool],\n",
    "    \"You may generate safe python code to analyze data and generate charts using matplotlib.\",\n",
    ")\n",
    "code_node = functools.partial(agent_node, agent=code_agent, name=\"Coder\")\n",
    "\n",
    "workflow = StateGraph(AgentState)\n",
    "workflow.add_node(\"Researcher\", research_node)\n",
    "workflow.add_node(\"Coder\", code_node)\n",
    "workflow.add_node(\"supervisor\", supervisor_chain)"
   ]
  },
  {
   "cell_type": "code",
   "execution_count": 8,
   "metadata": {},
   "outputs": [],
   "source": [
    "for member in members:\n",
    "    # We want our workers to ALWAYS \"report back\" to the supervisor when done\n",
    "    workflow.add_edge(member, \"supervisor\")\n",
    "# The supervisor populates the \"next\" field in the graph state\n",
    "# which routes to a node or finishes\n",
    "conditional_map = {k: k for k in members}\n",
    "conditional_map[\"FINISH\"] = END\n",
    "workflow.add_conditional_edges(\"supervisor\", lambda x: x[\"next\"], conditional_map)\n",
    "# Finally, add entrypoint\n",
    "workflow.set_entry_point(\"supervisor\")\n",
    "\n",
    "graph = workflow.compile()"
   ]
  },
  {
   "cell_type": "code",
   "execution_count": 12,
   "metadata": {},
   "outputs": [
    {
     "name": "stdout",
     "output_type": "stream",
     "text": [
      "{'supervisor': {'next': 'Coder'}}\n",
      "----\n",
      "{'Coder': {'messages': [HumanMessage(content=\"The code `print('Hello, World!')` was executed, and it printed the following to the terminal:\\n\\n```\\nHello, World!\\n```\", name='Coder')]}}\n",
      "----\n",
      "{'supervisor': {'next': 'FINISH'}}\n",
      "----\n"
     ]
    }
   ],
   "source": [
    "for s in graph.stream(\n",
    "    {\n",
    "        \"messages\": [\n",
    "            HumanMessage(content=\"Code hello world and print it to the terminal\")\n",
    "        ]\n",
    "    }\n",
    "):\n",
    "    if \"__end__\" not in s:\n",
    "        print(s)\n",
    "        print(\"----\")"
   ]
  },
  {
   "cell_type": "code",
   "execution_count": 13,
   "metadata": {},
   "outputs": [
    {
     "name": "stdout",
     "output_type": "stream",
     "text": [
      "{'supervisor': {'next': 'Coder'}}\n",
      "----\n",
      "{'Coder': {'messages': [HumanMessage(content=\"I'm sorry, but it seems that the Python environment we're working in does not have the `matplotlib` library installed, which is necessary to create and display the graph. Unfortunately, without this library, I'm unable to generate and print the linear regression graph to the terminal.\\n\\nIf you would like to replicate this on your own system, you can install `matplotlib` and `scikit-learn` using pip:\\n\\n```bash\\npip install matplotlib scikit-learn\\n```\\n\\nAnd then run the Python code provided earlier to generate and display the linear regression graph. If you have any other questions or need further assistance, please let me know!\", name='Coder')]}}\n",
      "----\n",
      "{'supervisor': {'next': 'FINISH'}}\n",
      "----\n"
     ]
    }
   ],
   "source": [
    "for s in graph.stream(\n",
    "    {\n",
    "        \"messages\": [\n",
    "            HumanMessage(content=\"Code a basic linear regression graph and print it to the terminal as an output\")\n",
    "        ]\n",
    "    }\n",
    "):\n",
    "    if \"__end__\" not in s:\n",
    "        print(s)\n",
    "        print(\"----\")"
   ]
  },
  {
   "cell_type": "code",
   "execution_count": 14,
   "metadata": {},
   "outputs": [
    {
     "name": "stdout",
     "output_type": "stream",
     "text": [
      "{'supervisor': {'next': 'Researcher'}}\n",
      "----\n",
      "{'Researcher': {'messages': [HumanMessage(content='Creating a graphical representation such as a linear regression graph is not possible within the text-based interface of this terminal. However, I can explain how to code a basic linear regression graph using Python with libraries such as matplotlib and scikit-learn, which can be run in a Python environment to visualize the graph.\\n\\nHere is a simple example of how you might code a basic linear regression graph in Python:\\n\\n```python\\nimport matplotlib.pyplot as plt\\nfrom sklearn.linear_model import LinearRegression\\nimport numpy as np\\n\\n# Sample data\\nx = np.array([1, 2, 3, 4, 5, 6, 7, 8, 9, 10]).reshape(-1, 1)\\ny = np.array([2, 4, 5, 4, 5, 6, 7, 8, 9, 10])\\n\\n# Create a linear regression model\\nmodel = LinearRegression()\\n\\n# Fit the model with the data\\nmodel.fit(x, y)\\n\\n# Make predictions\\npredictions = model.predict(x)\\n\\n# Plot the data points\\nplt.scatter(x, y, color=\\'blue\\', label=\\'Data points\\')\\n\\n# Plot the regression line\\nplt.plot(x, predictions, color=\\'red\\', label=\\'Regression line\\')\\n\\n# Add title and labels to the plot\\nplt.title(\\'Basic Linear Regression Graph\\')\\nplt.xlabel(\\'X\\')\\nplt.ylabel(\\'Y\\')\\n\\n# Show legend\\nplt.legend()\\n\\n# Display the plot\\nplt.show()\\n```\\n\\nTo run this code, you would need a Python environment with the necessary libraries installed. This code will open a window with a plot showing the data points in blue and the linear regression line in red.\\n\\nIf you want to generate a text-based representation of a linear regression output (not a graph), you could print the coefficients and intercept of the model to the terminal:\\n\\n```python\\n# Print the coefficients and intercept of the model\\nprint(f\"Coefficient: {model.coef_[0]}\")\\nprint(f\"Intercept: {model.intercept_}\")\\n```\\n\\nBut again, to create and visualize an actual graph, you would need to use graphical tools and an environment that supports graphical output.', name='Researcher')]}}\n",
      "----\n",
      "{'supervisor': {'next': 'Coder'}}\n",
      "----\n"
     ]
    },
    {
     "name": "stderr",
     "output_type": "stream",
     "text": [
      "Matplotlib is building the font cache; this may take a moment.\n"
     ]
    },
    {
     "data": {
      "image/png": "[encoded data removed]",
      "text/plain": [
       "<Figure size 640x480 with 1 Axes>"
      ]
     },
     "metadata": {},
     "output_type": "display_data"
    },
    {
     "name": "stdout",
     "output_type": "stream",
     "text": [
      "{'Coder': {'messages': [HumanMessage(content='Apologies for the confusion, but it appears I cannot directly display graphical output such as a linear regression graph in the terminal. However, the code provided earlier can be run in a local Python environment that supports graphical display, and it will generate the linear regression graph as described.\\n\\nIf you run this code in a suitable environment, it will create a scatter plot of the data points in blue and overlay a red regression line that best fits the data according to the linear regression model. To execute this, ensure you have Python installed with the `matplotlib` and `scikit-learn` libraries.', name='Coder')]}}\n",
      "----\n",
      "{'supervisor': {'next': 'FINISH'}}\n",
      "----\n"
     ]
    }
   ],
   "source": [
    "for s in graph.stream(\n",
    "    {\n",
    "        \"messages\": [\n",
    "            HumanMessage(content=\"Code a basic linear regression graph and print it to the terminal as an output\")\n",
    "        ]\n",
    "    }\n",
    "):\n",
    "    if \"__end__\" not in s:\n",
    "        print(s)\n",
    "        print(\"----\")"
   ]
  },
  {
   "cell_type": "code",
   "execution_count": 10,
   "metadata": {},
   "outputs": [
    {
     "name": "stdout",
     "output_type": "stream",
     "text": [
      "{'supervisor': {'next': 'Researcher'}}\n",
      "----\n",
      "{'Researcher': {'messages': [HumanMessage(content='Pikas (genus Ochotona) are small, short-legged mammals with a virtually tailless, egg-shaped body. They are found in the mountains of western North America and across much of Asia. Despite their resemblance to rodents, pikas are part of the family Ochotonidae and lack some of the skeletal modifications seen in hares and rabbits, such as a highly arched skull and strong hind limbs.\\n\\nPikas are known for their unique behavior of collecting and storing dried plants in \"haypiles\" for winter sustenance, as they do not hibernate and remain active throughout the year. They are sensitive to high temperatures and prefer cooler mountain regions, with some species being considered as early indicators of global warming effects due to their sensitivity to rising temperatures.\\n\\nThe American pika (Ochotona princeps) is one of only two species inhabiting North America, with the other being the collared pika (O. collaris). Recent studies suggest that some populations of American pikas are declining, with factors such as global warming contributing to habitat shifts and population extirpations. However, most pika species are still considered to be of \"Least Concern\" by the IUCN Red List, though there is a need for additional research and conservation efforts.\\n\\nPikas generally reach sizes of six to nine inches when fully grown and weigh less than a pound. While they can be tamed with time and patience when young, as they reach sexual maturity, they become less compatible with household life.\\n\\nThe range of pikas was larger in the past, with both extinct and extant species inhabiting Western Europe and Eastern North America, areas that are currently free of pikas. Their history can be traced back to the late Eocene and early Oligocene in Asia, with an expansion during periods of grassland proliferation.\\n\\nIn conclusion, pikas are fascinating creatures well-adapted to their alpine environments but are potentially vulnerable to the impacts of climate change and human activity. Conservation measures and further research are essential to ensure their continued survival in the changing landscape.\\n\\nReferences:\\n- Britannica: https://www.britannica.com/animal/pika\\n- Wikipedia (American pika): https://en.wikipedia.org/wiki/American_pika\\n- Animals.net: https://animals.net/pika/\\n- Wikipedia (Pika): https://en.wikipedia.org/wiki/Pika\\n- National Wildlife Federation: https://www.nwf.org/Educational-Resources/Wildlife-Guide/Mammals/American-Pika\\n\\nPlease consult the provided URLs for more detailed information and further study.', name='Researcher')]}}\n",
      "----\n",
      "{'supervisor': {'next': 'FINISH'}}\n",
      "----\n"
     ]
    }
   ],
   "source": [
    "for s in graph.stream(\n",
    "    {\"messages\": [HumanMessage(content=\"Write a brief research report on pikas.\")]},\n",
    "    {\"recursion_limit\": 100},\n",
    "):\n",
    "    if \"__end__\" not in s:\n",
    "        print(s)\n",
    "        print(\"----\")"
   ]
  },
  {
   "cell_type": "code",
   "execution_count": 11,
   "metadata": {},
   "outputs": [
    {
     "name": "stdout",
     "output_type": "stream",
     "text": [
      "{'supervisor': {'next': 'Researcher'}}\n",
      "----\n",
      "{'Researcher': {'messages': [HumanMessage(content=\"Based on the available information, Spectacles is a company that provides a continuous integration (CI) tool specifically designed for Looker, which is a business intelligence platform that utilizes LookML as its modeling language. Spectacles' product is aimed at ensuring the reliability and accuracy of Looker by automatically testing LookML code and content. This CI tool is intended to save developers hours of bug-fixing and to boost confidence in their Looker dashboards.\\n\\nThe founders of Spectacles include Josh Temple and Dylan Baker. Josh Temple has been mentioned as participating in podcasts discussing the history and development of Spectacles, as well as his work on a Python-based LookML parser and automated testing in the modern data warehouse. Dylan Baker has been referred to as a future co-founder and has been active in demonstrating new capabilities built with Looker and other tools.\\n\\nUnfortunately, no additional biographical details or the story of Spectacles' inception were provided in the search results. However, it is clear that the founders have been involved in solving LookML issues and in the development of a SaaS application that integrates with Looker to facilitate code quality and Looker UX.\\n\\nFor more detailed information about the founders and the company's history, one might need to look at interviews, podcasts, or articles specifically featuring the founders or visit the official Spectacles website and their social media or professional network profiles.\", name='Researcher')]}}\n",
      "----\n",
      "{'supervisor': {'next': 'FINISH'}}\n",
      "----\n"
     ]
    }
   ],
   "source": [
    "for s in graph.stream(\n",
    "    {\"messages\": [HumanMessage(content=\"Search for a company called spectacles that works on a product called looker Write a brief research report on it and its founder.\")]},\n",
    "    {\"recursion_limit\": 100},\n",
    "):\n",
    "    if \"__end__\" not in s:\n",
    "        print(s)\n",
    "        print(\"----\")"
   ]
  },
  {
   "cell_type": "code",
   "execution_count": 1,
   "metadata": {},
   "outputs": [
    {
     "ename": "NameError",
     "evalue": "name 'graph' is not defined",
     "output_type": "error",
     "traceback": [
      "\u001b[0;31m---------------------------------------------------------------------------\u001b[0m",
      "\u001b[0;31mNameError\u001b[0m                                 Traceback (most recent call last)",
      "Cell \u001b[0;32mIn[1], line 1\u001b[0m\n\u001b[0;32m----> 1\u001b[0m \u001b[38;5;28;01mfor\u001b[39;00m s \u001b[38;5;129;01min\u001b[39;00m \u001b[43mgraph\u001b[49m\u001b[38;5;241m.\u001b[39mstream(\n\u001b[1;32m      2\u001b[0m     {\u001b[38;5;124m\"\u001b[39m\u001b[38;5;124mmessages\u001b[39m\u001b[38;5;124m\"\u001b[39m: [HumanMessage(content\u001b[38;5;241m=\u001b[39m\u001b[38;5;124m\"\u001b[39m\u001b[38;5;124mFrom aston martin lagonda annual report 2023, Regarding the colleagues relationship, what was launched in 2023? \u001b[39m\u001b[38;5;124m\"\u001b[39m)]},\n\u001b[1;32m      3\u001b[0m     {\u001b[38;5;124m\"\u001b[39m\u001b[38;5;124mrecursion_limit\u001b[39m\u001b[38;5;124m\"\u001b[39m: \u001b[38;5;241m2\u001b[39m},\n\u001b[1;32m      4\u001b[0m ):\n\u001b[1;32m      5\u001b[0m     \u001b[38;5;28;01mif\u001b[39;00m \u001b[38;5;124m\"\u001b[39m\u001b[38;5;124m__end__\u001b[39m\u001b[38;5;124m\"\u001b[39m \u001b[38;5;129;01mnot\u001b[39;00m \u001b[38;5;129;01min\u001b[39;00m s:\n\u001b[1;32m      6\u001b[0m         \u001b[38;5;28mprint\u001b[39m(s)\n",
      "\u001b[0;31mNameError\u001b[0m: name 'graph' is not defined"
     ]
    }
   ],
   "source": [
    "for s in graph.stream(\n",
    "    {\"messages\": [HumanMessage(content=\"From aston martin lagonda annual report 2023, Regarding the colleagues relationship, what was launched in 2023? \")]},\n",
    "    {\"recursion_limit\": 2},\n",
    "):\n",
    "    if \"__end__\" not in s:\n",
    "        print(s)\n",
    "        print(\"----\")"
   ]
  }
 ],
 "metadata": {
  "kernelspec": {
   "display_name": "venv",
   "language": "python",
   "name": "python3"
  },
  "language_info": {
   "codemirror_mode": {
    "name": "ipython",
    "version": 3
   },
   "file_extension": ".py",
   "mimetype": "text/x-python",
   "name": "python",
   "nbconvert_exporter": "python",
   "pygments_lexer": "ipython3",
   "version": "3.10.11"
  }
 },
 "nbformat": 4,
 "nbformat_minor": 2
}
